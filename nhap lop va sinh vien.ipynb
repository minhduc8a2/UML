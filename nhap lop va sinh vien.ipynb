{
 "cells": [
  {
   "cell_type": "code",
   "execution_count": 9,
   "metadata": {},
   "outputs": [],
   "source": [
    "class Lop:\n",
    "    def __init__(self,ma,ten):\n",
    "        self.ma = ma\n",
    "        self.ten = ten\n",
    "    def __eq__(self, other):\n",
    "        if isinstance(other,Lop):\n",
    "            if other.ma == self.ma:\n",
    "                 return True\n",
    "        return False\n"
   ]
  },
  {
   "cell_type": "code",
   "execution_count": 10,
   "metadata": {},
   "outputs": [],
   "source": [
    "class Sinh_vien:\n",
    "    def __init__(self,ma,ten,ma_lop):\n",
    "        self.ma = ma\n",
    "        self.ten = ten\n",
    "        self.ma_lop = ma_lop\n",
    "    def __eq__(self, other):\n",
    "        if isinstance(other,Sinh_vien):\n",
    "            if other.ma == self.ma:\n",
    "                 return True\n",
    "        return False"
   ]
  },
  {
   "cell_type": "code",
   "execution_count": 12,
   "metadata": {},
   "outputs": [],
   "source": [
    "class Danh_sach_lop:\n",
    "    def __init__(self):\n",
    "        self.danh_sach = []\n",
    "    def them(self,lop):\n",
    "        if lop in self.danh_sach:\n",
    "            return False\n",
    "        self.danh_sach.append(lop)\n",
    "        return True\n",
    "        \n",
    "    "
   ]
  },
  {
   "cell_type": "code",
   "execution_count": 13,
   "metadata": {},
   "outputs": [],
   "source": [
    "class Danh_sach_sinh_vien:\n",
    "    def __init__(self):\n",
    "        self.danh_sach = []\n",
    "    def kiem_tra_lop_ton_tai(sinh_vien,danh_sach_lop):\n",
    "        for lop in range(len(danh_sach_lop)):\n",
    "            if sinh_vien.ma_lop == lop.ma:\n",
    "                 return True\n",
    "        return False\n",
    "    def them(self,sinh_vien,danh_sach_lop):\n",
    "        if not kiem_tra_lop_ton_tai(sinh_vien,danh_sach_lop): \n",
    "            return -1\n",
    "        if sinh_vien in self.danh_sach:\n",
    "            return 0\n",
    "        self.danh_sach.append(sinh_vien)\n",
    "        return 1"
   ]
  },
  {
   "cell_type": "code",
   "execution_count": 14,
   "metadata": {},
   "outputs": [],
   "source": [
    "danh_sach_lop = Danh_sach_lop()\n",
    "danh_sach_sinh_vien = Danh_sach_sinh_vien()"
   ]
  },
  {
   "cell_type": "code",
   "execution_count": 23,
   "metadata": {},
   "outputs": [
    {
     "name": "stdout",
     "output_type": "stream",
     "text": [
      "Ban muon lam gi?\n",
      "Chon \"1\" : Nhap danh sach lop\n",
      "Chon \"2\" : Nhap danh sach sinh vien \n",
      "Nhap phim khac de dung chuong trinh.\n",
      "Chuong trinh ket thuc.\n"
     ]
    }
   ],
   "source": [
    "selection = \"start\"\n",
    "while True:\n",
    "    print(\"Ban muon lam gi?\")\n",
    "    print(\"Chon \\\"1\\\" : Nhap danh sach lop\")\n",
    "    print(\"Chon \\\"2\\\" : Nhap danh sach sinh vien \")\n",
    "    print(\"Nhap phim khac de dung chuong trinh.\")\n",
    "    selection = input(\"Lua chon cua ban la: \")\n",
    "    if not selection == \"1\" and not selection == \"2\" :\n",
    "        print(\"Chuong trinh ket thuc.\")\n",
    "        break\n",
    "    elif selection == \"1\":\n",
    "        while True:\n",
    "            print(\"Nhap \\\"ESC\\\" de tro ve xem cac lua chon chuong trinh.\")\n",
    "            ma_lop = input(\"Vui long nhap ma lop:\")\n",
    "            if ma_lop == \"ESC\": \n",
    "                break\n",
    "            ten_lop = input(\"Vui long nhap ten lop:\")\n",
    "            if ten_lop == \"ESC\": \n",
    "                break\n",
    "            if danh_sach_lop.them(lop(ma_lop,ten_lop)) == True:\n",
    "                print(\"Them lop thanh cong!\")\n",
    "                print(\"Tiep tuc them lop...\")\n",
    "            else :\n",
    "                print(\"Lop da ton tai!, moi ban thu lai.\")\n",
    "    elif selection == \"2\":\n",
    "        while True:\n",
    "            print(\"Nhap \\\"ESC\\\" de tro ve xem cac lua chon chuong trinh.\")\n",
    "            mssv = input(\"Vui long nhap mssv:\")\n",
    "            if mssv == \"ESC\": \n",
    "                break\n",
    "            ten_sinh_vien = input(\"Vui long nhap ten sinh vien:\")\n",
    "            if ten_sinh_vien == \"ESC\": \n",
    "                break\n",
    "            ma_lop = input(\"Vui long nhap ma lop:\")\n",
    "            if ma_lop == \"ESC\": \n",
    "                break\n",
    "            ket_qua_them = danh_sach_sinh_vien.them(Sinh_vien(mssv,ten_sinh_vien,ma_lop),danh_sach_lop)\n",
    "            if ket_qua_them == -1:\n",
    "                print(\"Lop da nhap khong ton tai! Moi ban thu lai.\")\n",
    "            elif ket_qua_them == 0:\n",
    "                print(\"Sinh vien da ton tai! Moi ban nhap sinh vien khac.\")\n",
    "            else:\n",
    "                 print(\"Them sinh vien thanh cong! Tiep tuc them sinh vien...\")\n",
    "\n",
    "\n",
    "            \n",
    "\n"
   ]
  }
 ],
 "metadata": {
  "kernelspec": {
   "display_name": "Python 3",
   "language": "python",
   "name": "python3"
  },
  "language_info": {
   "codemirror_mode": {
    "name": "ipython",
    "version": 3
   },
   "file_extension": ".py",
   "mimetype": "text/x-python",
   "name": "python",
   "nbconvert_exporter": "python",
   "pygments_lexer": "ipython3",
   "version": "3.11.4"
  },
  "orig_nbformat": 4
 },
 "nbformat": 4,
 "nbformat_minor": 2
}
